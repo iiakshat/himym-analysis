{
 "cells": [
  {
   "cell_type": "markdown",
   "metadata": {},
   "source": [
    "### Named Entity Recognition"
   ]
  },
  {
   "cell_type": "code",
   "execution_count": 1,
   "metadata": {},
   "outputs": [],
   "source": [
    "import os\n",
    "import sys\n",
    "import pathlib\n",
    "import spacy\n",
    "from nltk.tokenize import sent_tokenize\n",
    "\n",
    "folder_path = pathlib.Path().parent.resolve()\n",
    "sys.path.append(os.path.join(folder_path, \"../\"))\n",
    "\n",
    "from utils import load_subs"
   ]
  },
  {
   "cell_type": "code",
   "execution_count": 4,
   "metadata": {},
   "outputs": [],
   "source": [
    "# !python -m spacy download en_core_web_trf"
   ]
  },
  {
   "cell_type": "markdown",
   "metadata": {},
   "source": [
    "__Load Model__\n"
   ]
  },
  {
   "cell_type": "code",
   "execution_count": 2,
   "metadata": {},
   "outputs": [
    {
     "name": "stderr",
     "output_type": "stream",
     "text": [
      "c:\\Users\\jaksh\\Desktop\\Programs\\Projects\\himym-analysis\\venv\\Lib\\site-packages\\tqdm\\auto.py:21: TqdmWarning: IProgress not found. Please update jupyter and ipywidgets. See https://ipywidgets.readthedocs.io/en/stable/user_install.html\n",
      "  from .autonotebook import tqdm as notebook_tqdm\n",
      "c:\\Users\\jaksh\\Desktop\\Programs\\Projects\\himym-analysis\\venv\\Lib\\site-packages\\thinc\\shims\\pytorch.py:253: FutureWarning: You are using `torch.load` with `weights_only=False` (the current default value), which uses the default pickle module implicitly. It is possible to construct malicious pickle data which will execute arbitrary code during unpickling (See https://github.com/pytorch/pytorch/blob/main/SECURITY.md#untrusted-models for more details). In a future release, the default value for `weights_only` will be flipped to `True`. This limits the functions that could be executed during unpickling. Arbitrary objects will no longer be allowed to be loaded via this mode unless they are explicitly allowlisted by the user via `torch.serialization.add_safe_globals`. We recommend you start setting `weights_only=True` for any use case where you don't have full control of the loaded file. Please open an issue on GitHub for any issues related to this experimental feature.\n",
      "  model.load_state_dict(torch.load(filelike, map_location=device))\n"
     ]
    }
   ],
   "source": [
    "def load_model():\n",
    "    nlp = spacy.load(\"en_core_web_trf\")\n",
    "    return nlp\n",
    "\n",
    "nlp_model = load_model()"
   ]
  },
  {
   "cell_type": "markdown",
   "metadata": {},
   "source": [
    "__Load Dataset__"
   ]
  },
  {
   "cell_type": "code",
   "execution_count": 3,
   "metadata": {},
   "outputs": [],
   "source": [
    "dataset_path = \"../data/subs/\"\n",
    "df = load_subs(dataset_path)"
   ]
  },
  {
   "cell_type": "code",
   "execution_count": 4,
   "metadata": {},
   "outputs": [
    {
     "data": {
      "text/html": [
       "<div>\n",
       "<style scoped>\n",
       "    .dataframe tbody tr th:only-of-type {\n",
       "        vertical-align: middle;\n",
       "    }\n",
       "\n",
       "    .dataframe tbody tr th {\n",
       "        vertical-align: top;\n",
       "    }\n",
       "\n",
       "    .dataframe thead th {\n",
       "        text-align: right;\n",
       "    }\n",
       "</style>\n",
       "<table border=\"1\" class=\"dataframe\">\n",
       "  <thead>\n",
       "    <tr style=\"text-align: right;\">\n",
       "      <th></th>\n",
       "      <th>episode</th>\n",
       "      <th>script</th>\n",
       "    </tr>\n",
       "  </thead>\n",
       "  <tbody>\n",
       "    <tr>\n",
       "      <th>0</th>\n",
       "      <td>1</td>\n",
       "      <td>﻿1 Kids, I'm gonna tell you an incredible stor...</td>\n",
       "    </tr>\n",
       "    <tr>\n",
       "      <th>1</th>\n",
       "      <td>2</td>\n",
       "      <td>by   - Okay, where was I? - You were telling ...</td>\n",
       "    </tr>\n",
       "    <tr>\n",
       "      <th>2</th>\n",
       "      <td>3</td>\n",
       "      <td>S  Sy  Syn     b   by   by v   by vN   by vNa ...</td>\n",
       "    </tr>\n",
       "    <tr>\n",
       "      <th>3</th>\n",
       "      <td>4</td>\n",
       "      <td>by   Kids, when you're single, all you're loo...</td>\n",
       "    </tr>\n",
       "    <tr>\n",
       "      <th>4</th>\n",
       "      <td>5</td>\n",
       "      <td>by   So, kids, would you like to hear the sto...</td>\n",
       "    </tr>\n",
       "  </tbody>\n",
       "</table>\n",
       "</div>"
      ],
      "text/plain": [
       "   episode                                             script\n",
       "0        1  ﻿1 Kids, I'm gonna tell you an incredible stor...\n",
       "1        2   by   - Okay, where was I? - You were telling ...\n",
       "2        3  S  Sy  Syn     b   by   by v   by vN   by vNa ...\n",
       "3        4   by   Kids, when you're single, all you're loo...\n",
       "4        5   by   So, kids, would you like to hear the sto..."
      ]
     },
     "execution_count": 4,
     "metadata": {},
     "output_type": "execute_result"
    }
   ],
   "source": [
    "df.head()"
   ]
  },
  {
   "cell_type": "code",
   "execution_count": 8,
   "metadata": {},
   "outputs": [
    {
     "data": {
      "text/plain": [
       "'\\ufeff1 Kids, I\\'m gonna tell you an incredible story ;  the story of how I met your mother.  Are we being punished for something?  No.  Yeah, is this gonna take a while?  Yes. 25 years ago, before I was Dad,  I had this whole other life.  It was way back in 2005.  I was 27, just starting to make it as an architect  and living in New York with Marshall, my best friend from college.  My life was good.  And then Uncle Marshall went and screwed the whole thing up.  Will you marry me?  Yes. Perfect!  And then you\\'re engaged. You pop the champagne.  You drink a toast.  You have sex on the kitchen floor.  Don\\'t have sex on our kitchen floor.  Got it.  Thanks for helping me plan this out, Ted.  Dude, are you kidding ? It\\'s you and Lilly.  I\\'ve been there for all the big moments of you and Lilly:  night you met, your first date, other first things.  Yeah, sorry. We thought you were asleep.  It\\'s physics, Marshall.  If the bottom bunk moves, the top bunk moves, too.  My God.  You\\'re getting engaged tonight.  Yeah. What are you doin\\' tonight?  What was I doing?  Here Uncle Marshall was taking the biggest step of his life.  And me?  I\\'m calling up your Uncle Barney.  Hey, so you know how I\\'ve always had a thing for half-Asian girls?  Well, now I\\'ve got a new favorite... Lebanese girls.  Lebanese girls are the new half-Asians.  Hey, you want to do somethin\\' tonight?  Okay, meet me at the bar in 15 minutes. And suit up!  Where\\'s your suit?  Just once, when I say suit up, I wish you\\'d put on a suit.  I did that one time.  It was a blazer!  You know, ever since college it\\'s been, Marshall and Lilly and me.  Now, it\\'s gonna be Marshall and Lilly... and me.  They\\'ll get married, start a family.  Before long, I\\'m that weird, middle-aged bachelor their kids call Uncle Ted.  I see what this is about.  Have you forgotten what I said to you the night we met?  Ted, I\\'m gonna teach you how to live.  Barney. We met at the urinal.  Oh, right. Right.  Lesson one: lose the goatee.  It doesn\\'t go with your suit.  - I\\'m not wearing a suit. - Lesson two: get a suit.  Suits are cool. Exhibit \"A.\"  Lesson three: don\\'t even think about getting married till you\\'re 30.  30. Right. You\\'re right.  I guess it\\'s just, your best friend gets engaged,  you start thinking about that stuff.  I thought I was your best friend.  Ted, say I\\'m your best friend.  You\\'re my best friend, Barney.  Good. Then, as your best friend,  I suggest we play a little game I like to call  - \"Have you met Ted?\" - Wait. No, no, no.  We\\'re not playing \"Have you met Ted?\"  Hi, have you met Ted?  Hi, I\\'m Ted.  Yasmine.  That\\'s a very pretty name.  Thanks. It\\'s Lebanese.  I\\'m exhausted.  It was finger-painting day at school,  and a five year-old boy got to second base with me.  Wow! You\\'re cooking?  Yes, I am.  Aw...  Are you sure that\\'s a good idea?  After last time, you looked really creepy without eyebrows.  I can handle this.  I think you\\'ll find I\\'m full of surprises tonight.  So, there\\'s more surprises? Like what?  Marshall was in his second year of law school,  so he was pretty good at thinking on his feet.  Boogedyboo!  And that\\'s all of \\'em.  I\\'m gonna go... cook.  I\\'m so happy for Marshall, I really am.  I just couldn\\'t imagine settling down right now.  So, do you think you\\'ll ever get married?  Well, maybe eventually...  some fall day, possibly in Central Park.  Simple ceremony. We\\'ll write our own vows.  Band, no DJ. People will dance!  I\\'m not gonna worry about it!  Damn it, why did Marshall have to get engaged?  Yeah, nothing hotter than a guy planning out his own imaginary wedding, huh?  - Actually, I think it\\'s cute. - Well, you\\'re clearly drunk.  One more for the lady!  Oh, hey, look what I got.  Oh, honey! Champagne.  Yeah.  No. You are too old to be scared to open a bottle of champagne.  - I\\'m not scared. - Then open it.  Fine.  Please open it?  You are unbelievable, Marshall.  There are two big questions a man has to ask in life.  One, you plan out for months.  The other just slips out when you\\'re half drunk at some bar.  Will you marry me?  You wanna go out sometime?  Of course, you idiot!  I\\'m sorry, Carl\\'s my boyfriend.  \\'Sup, Carl?  I promised Ted we wouldn\\'t do that.  Did you know there\\'s a Pop Tart under your fridge?  No, but dibs.  Where\\'s that champagne?  I wanna drink a toast with my fiancée.  I don\\'t know why I was so scared of this.  It\\'s pretty easy, right?  Why am I freaking out all of a sudden?  This is crazy. I\\'m not ready to settle down.  How does Carl land a Lebanese girl?  The plan has always been don\\'t even think about it until you\\'re 30.  Exactly. The guy doesn\\'t even own a suit.  Plus, Marshall\\'s found the love of his life.  Even if I was ready, which I\\'m not...  but if I was, it\\'s, like, \"Okay, I\\'m ready. Where is she?\"  And there she was.  It was like something from an old movie,  where the sailor sees the girl across the crowded dance floor,  turns to his buddy and says, \"See that girl?\"  I\\'m gonna marry her someday.\"  Hey, Barney, see that girl?  Oh, yeah. You just know she likes it dirty.  Go say hi.  I can\\'t just go say hi.  I need a plan.  I\\'m gonna wait until she goes to the bathroom,  then I\\'ll strategically place myself by the jukebox...  Hi, have you met Ted?  Let me guess... Ted.  Sorry, Lilly. I\\'m so sorry.  - Take us to the hospital. - Whoa, whoa, whoa.  Did you hit her?  Hit me? Please!  This guy can barely even spank me in bed for fun.  He\\'s all like, \"Oh, honey. Did that hurt?\"  And, I\\'m like, \"Come on! Let me have it, you pansy!\"  - Wow, a complete stranger. - No, no, no, no! It\\'s okay.  Go on.  So, these, uh, spankings...  you in pajamas or Au Naturel?  So, what do you do?  I\\'m a reporter for Metro News One.  Well, kind of a reporter.  I do those dumb little fluff pieces at the end of the news.  You know, like, um...  monkey who can play the ukulele.  I\\'m hoping to get some bigger stories soon.  Bigger, like, uh... gorilla with an upright bass?  Sorry. You\\'re really pretty.  Oh, your friends don\\'t seem too happy.  Yeah, see, the one in the middle just got dumped by her boyfriend.  So, tonight, every guy is \"the enemy.\"  You know if it\\'ll make your friend feel better,  you could throw a drink in my face. I don\\'t mind.  She would love that!  And it does look fun in the movies.  Hey, you wanna have dinner with me Saturday night?  Oh, I can\\'t.  I\\'m going to Orlando for a week on Friday.  Some guy\\'s attempting to make the world\\'s biggest pancake.  Guess who\\'s covering it?  That\\'s gonna take a week?  Yeah, he\\'s gonna eat it, too. It\\'s another record.  Hey! What\\'s takin\\' so long?  Uh, I know this is a long shot, but how \\'bout tomorrow night?  Yeah. What the hell?  Jerk!  That was fun.  De... wait for it... nied!  Denied!  We\\'re goin\\' out tomorrow night.  I thought we were playin\\' laser tag tomorrow night.  Yeah, I was never gonna go play laser tag.  The next night, I took her out to this little bistro in Brooklyn.  That is one badass blue French horn.  Yeah.  Sort of looks like a Smurf penis.  Son, a piece of advice:  when you go on a first date, you really don\\'t wanna say \"Smurf penis\".  Girls don\\'t ordinarily like that.  But this was no ordinary girl.  Lilly?  How long have you been sitting there?  Stupid eye patch.  Mom, Dad, I have found the future Mrs. Ted Mosby.  Marshall, how have I always described my perfect woman?  Now, let\\'s see... she likes dogs?  I\\'ve got five dogs.  She drinks scotch?  I love a scotch that\\'s old enough to order its own scotch.  Can quote obscure lines from Ghostbusters?  Ray! When someone asks you if you\\'re a god, you say \"Yes!\"  And I\\'m saving the best for last.  Do you want these? I hate olives.  She hates olives! Awesome!  The olive theory.  The olive theory is based on my friends Marshall and Lilly.  He hates olives, she loves them.  In a weird way, that\\'s what makes them such a great couple.  Perfect balance.  You know, I\\'ve had a jar of olives just sitting in my fridge forever.  I could take \\'em off your hands.  They\\'re all yours.  Oh, it is on!  It is on till the break of dawn.  But wait.  It\\'s only the break of 10:30. What happened?  I gotta get one of those blue French horns for over my fireplace.  It\\'s gotta be blue. It\\'s gotta be French.  - No green clarinet? - Nope.  Come on. No purple tuba?  It\\'s a Smurf penis or no dice.  There you are!  We got a jumper.  Some crazy guy on the Manhattan Bridge.  Come on. You\\'re coverin\\' it!  Um... all right. I\\'ll be right there.  I\\'m sorry.  I had a really great time tonight.  Yeah.  So?! Did you kiss her?  No. The moment wasn\\'t right.  Look, this woman could actually be my future wife.  I want our first kiss to be amazing.  Aw, Ted, that is so sweet.  So you chickened out like a little bitch.  What? I did not chicken out.  You know what?  I don\\'t need to take first kiss advice from some pirate  who hasn\\'t been single since the first week of college.  Anyone who\\'s single would tell you the same thing,  even the dumbest single person alive.  And if you don\\'t believe me, call him.  Hey, loser.  How\\'s not playing laser tag?  Because playing laser tag is awesome!  - Oh, I killed you, Conner! - Don\\'t make me get your mom!  Hey, listen. I need your opinion on something.  Okay, meet me at the bar in 15 minutes.  And suit up!  So, these guys think I chickened out.  What do you think?  I can\\'t believe you\\'re still not wearing a suit.  She didn\\'t even give me the signal.  What, is she gonna, she gonna bat her eyes at you in Morse code?  \"Ted... kiss me.\" No ! You just kiss her!  Not if you don\\'t get the signal.  Did Marshall give me the signal?  No! I didn\\'t. I swear.  But, see, at least tonight,  I get to sleep knowing Marshall and me,  never gonna happen.  You should have kissed her.  Oh, I should have kissed her.  Well, maybe in a week when she gets back from Orlando.  A week? That\\'s like a year in hot girl time.  She\\'ll forget all about you.  Mark my words... you will never see that one again.  There she is.  Ooh! She\\'s cute. Hey, Carl, turn it up.  ...persuaded him to reconsider.  At which point, the man came down off the ledge,  giving this bizarre story a happy ending.  - Reporting from Metro One News... - Guy didn\\'t jump.  I\\'m gonna go kiss her.  Right now.  Look, dude. It\\'s midnight.  As your future lawyer, I\\'m gonna advise you that\\'s freakin\\' crazy.  I never do anything crazy.  I\\'m always waiting for the moment, planning the moment.  Well, she\\'s leaving tomorrow.  This may be the only moment I\\'m gonna get.  I gotta do what that guy couldn\\'t.  I gotta take the leap!  Okay, not a perfect metaphor,  \\'cause for me it\\'s fall in love and get married,  and for him it\\'s... death.  Actually, that is a perfect metaphor.  By the way, did I congratulate you two?  I\\'m doing this.  Let\\'s go.  - Word up. - We\\'re coming with you.  Barney?  All right, but under one condition.  Look at you, you beautiful bastard. You suited up!  This is totally going in my blog!  Stop the car.  Uh, pull over right here.  I gotta do something.  Excuse me. Pardon me. Just a sec\\'.  Enjoy your coffee.  Go! Go! Go!  Everybody brings flowers.  Okay.  Moment of truth.  Wish me luck.  Ted\\'s gonna get it on with a TV reporter.  \"This just in.\" Okay.  Kiss her, Ted! Kiss her good!  Kiss the crap outta that girl!  Marshall, remember this night.  When you\\'re the best man at our wedding and you give a speech,  you\\'re gonna tell this story.  Why does he get to be the best man?  I\\'m your best friend!  As I walked up to that door, a million thoughts raced through my mind.  Unfortunately, one particular thought did not.  I\\'ve got five dogs.  Not good. Not good.  - No! - Get back in there!  You\\'re wearing a suit!  Ted?  Hi.  I was just, uh...  Come on up.  He\\'s in.  So...  Ranjit, you must have done it with a Lebanese girl?  Okay, that\\'s my Barney limit.  I\\'m gonna see if that bodega has a bathroom.  Actually, I\\'m from Bangladesh.  The women hot there?  Here\\'s a picture of my wife.  A simple \"no\" would have sufficed.  She\\'s lovely.  So, Ted, what brings you back to Brooklyn at 1:00 in the morning in a suit?  I was just hoping to...  get those olives...  that you said I could have.  Would you like those olives with some gin and vermouth?  Are you trying to get me drunk?  For starters.  So, Marshall, this olive theory, based on you and Lilly?  You hate olives.  Lilly loves \\'em. You can\\'t stand \\'em.  Yeah. Hate olives.  Two weeks ago, Spanish bar on 79th street, dish of olives, you had some... what up?  You have to swear that this does not leave this cab.  - I swear. - I swear.  On our first date, I ordered a Greek salad.  Lilly asked if she could have my olives.  - I said, \"Sure. I hate olives.\" - But, you like olives.  Well, I was 18, okay? I was a virgin.  Been waitin\\' my whole life for a pretty girl to want my olives.  Marshall, I\\'m gonna give you an early wedding present.  Don\\'t get married.  I think I like your olive theory.  I think I like your new French horn.  I think I like your nose.  I think I\\'m in love with you.  - What?! - What?! - What?!  Come on, man, you said your stomach\\'s been hurting, right?  You know what that is.  Hunger.  You\\'re hungry for experience.  Hungry for something new.  Hungry for olives.  But you\\'re too scared to do anything about it.  Yeah, I\\'m scared, okay?  But, when I think of spending the rest of my life with Lilly...  committing, forever, no other women...  doesn\\'t scare me at all.  I\\'m marrying that girl.  Lilly.  Lilly, I like olives.  We\\'ll make it work.  So, Orlando. You gonna hit DisneyWorld?  You love me?!  I-I-I can\\'t believe I said that.  Why did I say that? Who says that?  I should just go.  Hold on.  Wait a minute.  Promised you these.  Olives. Thanks. I love you.  What is wrong with me?  Why are we still sitting here?  Let\\'s go. We can still make last call.  What do you say, Lil?  Yo-ho-ho and a bottle of rum?  \\'Cause you\\'re a pirate.  Okay, eye patch, gone.  And we can\\'t just abandon Ted.  If it doesn\\'t go well up there, he\\'s gonna need some support.  It\\'s been, like, 20 minutes.  You think they\\'re doin\\' it?  You think they\\'re doin\\' it in front of the dogs?  Doggy style.  Hey, there was a girl in college, she had this golden retriever...  Okay, we can go to the bar. Just stop talking.  Hit it, Ranjit.  So, when you tell this story to your friends,  could you avoid the word \"psycho?\"  I\\'d prefer. \"eccentric.\"  Good night... psycho.  Great.  Um, how do I get to the F train?  Oh, um, two blocks that way and take a right.  You know what?  I\\'m done being single.  I\\'m not good at it.  Look, obviously, you can\\'t tell a woman you just met you love her.  But... it sucks that you can\\'t.  I\\'ll tell you something, though.  If a woman... not you, just some hypothetical woman...  were to bear with me through all this,  I think I\\'d make a damn good husband.  Because, that\\'s the stuff I\\'d be good at,  stuff like making her laugh and being a good father.  And walking her five hypothetical dogs.  Being a good kisser.  Everyone thinks they\\'re a good kisser.  Oh, I\\'ve got references.  Good night, Ted.  And I\\'m a good handshaker.  That\\'s a pretty great handshake.  And that was it.  I\\'ll probably never see her again.  What?  That was the signal.  That long, lingering handshake? You should have kissed her.  There\\'s no such thing as \"the signal.\"  But, yeah, that was the signal.  Signal.  Ah, Carl, thank you.  Something I gotta do.  By the way, you should have kissed her.  Carl! You guys weren\\'t there.  I am so turned on right now.  Guys, trust me.  I\\'ve seen the signal.  That was not the signal.  Yeah, Ted, we\\'re not on you anymore.  - To my fiancée. - To the future.  To one hell of a night!  That was not the signal.  I asked her about it years later.  And, yeah, that was the signal.  I could have kissed her.  But that\\'s the funny thing about destiny.  It happens whether you plan it or not.  I mean, I never thought I\\'d see that girl again,  but it turns out I was just too close to the puzzle  to see the picture that was forming.  Because, that, kids, is the true story of how I met your Aunt Robin.  Aunt Robin?  I thought this was how you met mom!  Will you relax? I\\'m getting to it.  Like I said, it\\'s a long story.  <font color=\"#ffff00\">~ Resync by AdyMcAwsum ~</font> <font color=\"#ff0080\">= Addic7ed =</font> '"
      ]
     },
     "execution_count": 8,
     "metadata": {},
     "output_type": "execute_result"
    }
   ],
   "source": [
    "sample_script = df.iloc[0][\"script\"]\n",
    "sample_script"
   ]
  },
  {
   "cell_type": "code",
   "execution_count": 9,
   "metadata": {},
   "outputs": [],
   "source": [
    "sentences = sent_tokenize(sample_script)"
   ]
  },
  {
   "cell_type": "code",
   "execution_count": 19,
   "metadata": {},
   "outputs": [
    {
     "data": {
      "text/plain": [
       "['Will you marry me?',\n",
       " 'Yes.',\n",
       " 'Perfect!',\n",
       " \"And then you're engaged.\",\n",
       " 'You pop the champagne.',\n",
       " 'You drink a toast.',\n",
       " 'You have sex on the kitchen floor.',\n",
       " \"Don't have sex on our kitchen floor.\",\n",
       " 'Got it.',\n",
       " 'Thanks for helping me plan this out, Ted.']"
      ]
     },
     "execution_count": 19,
     "metadata": {},
     "output_type": "execute_result"
    }
   ],
   "source": [
    "sample_sents = sentences[10:50]\n",
    "sample_sents[:10]"
   ]
  },
  {
   "cell_type": "code",
   "execution_count": 20,
   "metadata": {},
   "outputs": [
    {
     "data": {
      "text/plain": [
       "\"Will you marry me?. Yes.. Perfect!. And then you're engaged.. You pop the champagne.. You drink a toast.. You have sex on the kitchen floor.. Don't have sex on our kitchen floor.. Got it.. Thanks for helping me plan this out, Ted.. Dude, are you kidding ?. It's you and Lilly.. I've been there for all the big moments of you and Lilly:  night you met, your first date, other first things.. Yeah, sorry.. We thought you were asleep.. It's physics, Marshall.. If the bottom bunk moves, the top bunk moves, too.. My God.. You're getting engaged tonight.. Yeah.. What are you doin' tonight?. What was I doing?. Here Uncle Marshall was taking the biggest step of his life.. And me?. I'm calling up your Uncle Barney.. Hey, so you know how I've always had a thing for half-Asian girls?. Well, now I've got a new favorite... Lebanese girls.. Lebanese girls are the new half-Asians.. Hey, you want to do somethin' tonight?. Okay, meet me at the bar in 15 minutes.. And suit up!. Where's your suit?. Just once, when I say suit up, I wish you'd put on a suit.. I did that one time.. It was a blazer!. You know, ever since college it's been, Marshall and Lilly and me.. Now, it's gonna be Marshall and Lilly... and me.. They'll get married, start a family.. Before long, I'm that weird, middle-aged bachelor their kids call Uncle Ted.. I see what this is about.\""
      ]
     },
     "execution_count": 20,
     "metadata": {},
     "output_type": "execute_result"
    }
   ],
   "source": [
    "sents = \". \".join(sample_sents)\n",
    "sents"
   ]
  },
  {
   "cell_type": "markdown",
   "metadata": {},
   "source": [
    "__Run Model__"
   ]
  },
  {
   "cell_type": "code",
   "execution_count": 21,
   "metadata": {},
   "outputs": [
    {
     "name": "stderr",
     "output_type": "stream",
     "text": [
      "c:\\Users\\jaksh\\Desktop\\Programs\\Projects\\himym-analysis\\venv\\Lib\\site-packages\\thinc\\shims\\pytorch.py:114: FutureWarning: `torch.cuda.amp.autocast(args...)` is deprecated. Please use `torch.amp.autocast('cuda', args...)` instead.\n",
      "  with torch.cuda.amp.autocast(self._mixed_precision):\n"
     ]
    }
   ],
   "source": [
    "doc = nlp_model(sents)"
   ]
  },
  {
   "cell_type": "code",
   "execution_count": 27,
   "metadata": {},
   "outputs": [
    {
     "data": {
      "text/plain": [
       "(Ted,\n",
       " Lilly,\n",
       " Lilly,\n",
       " night,\n",
       " first,\n",
       " first,\n",
       " Marshall,\n",
       " tonight,\n",
       " tonight,\n",
       " Marshall,\n",
       " Barney,\n",
       " half-Asian,\n",
       " Lebanese,\n",
       " Lebanese,\n",
       " half-Asians,\n",
       " tonight,\n",
       " 15 minutes,\n",
       " one,\n",
       " Marshall,\n",
       " Lilly,\n",
       " Marshall,\n",
       " Lilly,\n",
       " Ted)"
      ]
     },
     "execution_count": 27,
     "metadata": {},
     "output_type": "execute_result"
    }
   ],
   "source": [
    "doc.ents"
   ]
  },
  {
   "cell_type": "code",
   "execution_count": 34,
   "metadata": {},
   "outputs": [
    {
     "name": "stdout",
     "output_type": "stream",
     "text": [
      "Ted  >  PERSON\n",
      "Lilly  >  PERSON\n",
      "Lilly  >  PERSON\n",
      "night  >  TIME\n",
      "first  >  ORDINAL\n",
      "first  >  ORDINAL\n",
      "Marshall  >  PERSON\n",
      "tonight  >  TIME\n",
      "tonight  >  TIME\n",
      "Marshall  >  PERSON\n",
      "Barney  >  PERSON\n",
      "half-Asian  >  NORP\n",
      "Lebanese  >  NORP\n",
      "Lebanese  >  NORP\n",
      "half-Asians  >  NORP\n",
      "tonight  >  TIME\n",
      "15 minutes  >  TIME\n",
      "one  >  CARDINAL\n",
      "Marshall  >  PERSON\n",
      "Lilly  >  PERSON\n",
      "Marshall  >  PERSON\n",
      "Lilly  >  PERSON\n",
      "Ted  >  PERSON\n"
     ]
    }
   ],
   "source": [
    "for entity in doc.ents:\n",
    "    print(entity.text, \" > \",entity.label_)"
   ]
  },
  {
   "cell_type": "code",
   "execution_count": 37,
   "metadata": {},
   "outputs": [],
   "source": [
    "def get_chars_inference(script):\n",
    "    script_sents = sent_tokenize(script)\n",
    "    chars = [] \n",
    "\n",
    "    for sent in script_sents:\n",
    "        doc = nlp_model(sent)\n",
    "        char = set()\n",
    "\n",
    "        for entity in doc.ents:\n",
    "            if entity.label_ == \"PERSON\":\n",
    "                name  = entity.text.strip().split(\" \")[0]\n",
    "                char.add(name)\n",
    "\n",
    "        chars.append(char)\n",
    "\n",
    "    return chars"
   ]
  },
  {
   "cell_type": "code",
   "execution_count": 38,
   "metadata": {},
   "outputs": [
    {
     "name": "stderr",
     "output_type": "stream",
     "text": [
      "c:\\Users\\jaksh\\Desktop\\Programs\\Projects\\himym-analysis\\venv\\Lib\\site-packages\\thinc\\shims\\pytorch.py:114: FutureWarning: `torch.cuda.amp.autocast(args...)` is deprecated. Please use `torch.amp.autocast('cuda', args...)` instead.\n",
      "  with torch.cuda.amp.autocast(self._mixed_precision):\n"
     ]
    }
   ],
   "source": [
    "df[\"chars\"] = df[\"script\"].apply(get_chars_inference)"
   ]
  },
  {
   "cell_type": "code",
   "execution_count": 40,
   "metadata": {},
   "outputs": [
    {
     "data": {
      "text/html": [
       "<div>\n",
       "<style scoped>\n",
       "    .dataframe tbody tr th:only-of-type {\n",
       "        vertical-align: middle;\n",
       "    }\n",
       "\n",
       "    .dataframe tbody tr th {\n",
       "        vertical-align: top;\n",
       "    }\n",
       "\n",
       "    .dataframe thead th {\n",
       "        text-align: right;\n",
       "    }\n",
       "</style>\n",
       "<table border=\"1\" class=\"dataframe\">\n",
       "  <thead>\n",
       "    <tr style=\"text-align: right;\">\n",
       "      <th></th>\n",
       "      <th>episode</th>\n",
       "      <th>script</th>\n",
       "      <th>chars</th>\n",
       "    </tr>\n",
       "  </thead>\n",
       "  <tbody>\n",
       "    <tr>\n",
       "      <th>0</th>\n",
       "      <td>1</td>\n",
       "      <td>﻿1 Kids, I'm gonna tell you an incredible stor...</td>\n",
       "      <td>[{}, {}, {}, {}, {}, {}, {}, {Marshall}, {}, {...</td>\n",
       "    </tr>\n",
       "    <tr>\n",
       "      <th>1</th>\n",
       "      <td>2</td>\n",
       "      <td>by   - Okay, where was I? - You were telling ...</td>\n",
       "      <td>[{}, {Mom}, {}, {}, {}, {Robin}, {}, {Ted, Bar...</td>\n",
       "    </tr>\n",
       "    <tr>\n",
       "      <th>2</th>\n",
       "      <td>3</td>\n",
       "      <td>S  Sy  Syn     b   by   by v   by vN   by vNa ...</td>\n",
       "      <td>[{}, {}, {}, {}, {}, {Marshall, Barney, Lily},...</td>\n",
       "    </tr>\n",
       "    <tr>\n",
       "      <th>3</th>\n",
       "      <td>4</td>\n",
       "      <td>by   Kids, when you're single, all you're loo...</td>\n",
       "      <td>[{}, {}, {}, {}, {}, {}, {}, {}, {}, {}, {}, {...</td>\n",
       "    </tr>\n",
       "    <tr>\n",
       "      <th>4</th>\n",
       "      <td>5</td>\n",
       "      <td>by   So, kids, would you like to hear the sto...</td>\n",
       "      <td>[{}, {}, {}, {}, {Robin}, {}, {}, {}, {}, {}, ...</td>\n",
       "    </tr>\n",
       "  </tbody>\n",
       "</table>\n",
       "</div>"
      ],
      "text/plain": [
       "   episode                                             script  \\\n",
       "0        1  ﻿1 Kids, I'm gonna tell you an incredible stor...   \n",
       "1        2   by   - Okay, where was I? - You were telling ...   \n",
       "2        3  S  Sy  Syn     b   by   by v   by vN   by vNa ...   \n",
       "3        4   by   Kids, when you're single, all you're loo...   \n",
       "4        5   by   So, kids, would you like to hear the sto...   \n",
       "\n",
       "                                               chars  \n",
       "0  [{}, {}, {}, {}, {}, {}, {}, {Marshall}, {}, {...  \n",
       "1  [{}, {Mom}, {}, {}, {}, {Robin}, {}, {Ted, Bar...  \n",
       "2  [{}, {}, {}, {}, {}, {Marshall, Barney, Lily},...  \n",
       "3  [{}, {}, {}, {}, {}, {}, {}, {}, {}, {}, {}, {...  \n",
       "4  [{}, {}, {}, {}, {Robin}, {}, {}, {}, {}, {}, ...  "
      ]
     },
     "execution_count": 40,
     "metadata": {},
     "output_type": "execute_result"
    }
   ],
   "source": [
    "df.head()"
   ]
  },
  {
   "cell_type": "code",
   "execution_count": 39,
   "metadata": {},
   "outputs": [],
   "source": [
    "import pandas as pd\n",
    "import matplotlib.pyplot as plt\n",
    "import networkx as nx\n",
    "from pyvis.network import Network"
   ]
  },
  {
   "cell_type": "code",
   "execution_count": 43,
   "metadata": {},
   "outputs": [],
   "source": [
    "def generate_char_network(df):\n",
    "\n",
    "    windows = 10\n",
    "    entity_relationship = []\n",
    "\n",
    "    for row in df[\"chars\"]:\n",
    "        prev_entity_window = []\n",
    "\n",
    "        for sentence in row:\n",
    "            \n",
    "            # each sentence = [\"Ted\", \"Lilly\"]\n",
    "            prev_entity_window.append(list(sentence))\n",
    "\n",
    "            # We keep only the last 10 entities as previous.\n",
    "            prev_entity_window = prev_entity_window[-windows:]\n",
    "\n",
    "            # Flatten 2D list into 1D list\n",
    "            prev_entity_flattened = sum(prev_entity_window, [])\n",
    "\n",
    "            # Build relationship for each entity.\n",
    "            for entity in sentence:\n",
    "                # Check each entity with all previous 10 entities.\n",
    "                for entity_in_window in prev_entity_flattened:\n",
    "\n",
    "                    # if they aren't same, append them because they are related.\n",
    "                    if entity != entity_in_window:\n",
    "\n",
    "                        # Sort them because (ted, lilly is same as lilly, ted.)\n",
    "                        entity_relationship.append(sorted([entity, entity_in_window]))\n",
    "\n",
    "    relationship_df = pd.DataFrame({\"value\": entity_relationship})\n",
    "    relationship_df[\"source\"] = relationship_df[\"value\"].apply(lambda x: x[0])\n",
    "    relationship_df[\"target\"] = relationship_df[\"value\"].apply(lambda x: x[1])\n",
    "    relationship_df = relationship_df.groupby([\"source\", \"target\"]).count().reset_index()\n",
    "    relationship_df = relationship_df.sort_values(\"value\", ascending=False)\n",
    "\n",
    "    return relationship_df"
   ]
  },
  {
   "cell_type": "code",
   "execution_count": 145,
   "metadata": {},
   "outputs": [],
   "source": [
    "relationship_df = generate_char_network(df)"
   ]
  },
  {
   "cell_type": "code",
   "execution_count": 94,
   "metadata": {},
   "outputs": [],
   "source": [
    "# with open(\"char.txt\", \"w\") as f:\n",
    "#     a = \"\"\n",
    "#     for i in sorted(set(relationship_df[\"source\"].unique().tolist()).union(set(relationship_df[\"target\"].unique().tolist()))):\n",
    "#         a = a + i + \"\\n\"\n",
    "    \n",
    "#     f.write(a)"
   ]
  },
  {
   "cell_type": "code",
   "execution_count": 131,
   "metadata": {},
   "outputs": [
    {
     "data": {
      "text/html": [
       "<div>\n",
       "<style scoped>\n",
       "    .dataframe tbody tr th:only-of-type {\n",
       "        vertical-align: middle;\n",
       "    }\n",
       "\n",
       "    .dataframe tbody tr th {\n",
       "        vertical-align: top;\n",
       "    }\n",
       "\n",
       "    .dataframe thead th {\n",
       "        text-align: right;\n",
       "    }\n",
       "</style>\n",
       "<table border=\"1\" class=\"dataframe\">\n",
       "  <thead>\n",
       "    <tr style=\"text-align: right;\">\n",
       "      <th></th>\n",
       "      <th>source</th>\n",
       "      <th>target</th>\n",
       "      <th>value</th>\n",
       "    </tr>\n",
       "  </thead>\n",
       "  <tbody>\n",
       "    <tr>\n",
       "      <th>557</th>\n",
       "      <td>Robin</td>\n",
       "      <td>Ted</td>\n",
       "      <td>192</td>\n",
       "    </tr>\n",
       "    <tr>\n",
       "      <th>400</th>\n",
       "      <td>Lily</td>\n",
       "      <td>Marshall</td>\n",
       "      <td>108</td>\n",
       "    </tr>\n",
       "    <tr>\n",
       "      <th>129</th>\n",
       "      <td>Barney</td>\n",
       "      <td>Ted</td>\n",
       "      <td>107</td>\n",
       "    </tr>\n",
       "    <tr>\n",
       "      <th>422</th>\n",
       "      <td>Lily</td>\n",
       "      <td>Ted</td>\n",
       "      <td>86</td>\n",
       "    </tr>\n",
       "    <tr>\n",
       "      <th>475</th>\n",
       "      <td>Marshall</td>\n",
       "      <td>Ted</td>\n",
       "      <td>82</td>\n",
       "    </tr>\n",
       "  </tbody>\n",
       "</table>\n",
       "</div>"
      ],
      "text/plain": [
       "       source    target  value\n",
       "557     Robin       Ted    192\n",
       "400      Lily  Marshall    108\n",
       "129    Barney       Ted    107\n",
       "422      Lily       Ted     86\n",
       "475  Marshall       Ted     82"
      ]
     },
     "execution_count": 131,
     "metadata": {},
     "output_type": "execute_result"
    }
   ],
   "source": [
    "relationship_df.head()"
   ]
  },
  {
   "cell_type": "code",
   "execution_count": 132,
   "metadata": {},
   "outputs": [
    {
     "data": {
      "text/html": [
       "<div>\n",
       "<style scoped>\n",
       "    .dataframe tbody tr th:only-of-type {\n",
       "        vertical-align: middle;\n",
       "    }\n",
       "\n",
       "    .dataframe tbody tr th {\n",
       "        vertical-align: top;\n",
       "    }\n",
       "\n",
       "    .dataframe thead th {\n",
       "        text-align: right;\n",
       "    }\n",
       "</style>\n",
       "<table border=\"1\" class=\"dataframe\">\n",
       "  <thead>\n",
       "    <tr style=\"text-align: right;\">\n",
       "      <th></th>\n",
       "      <th>source</th>\n",
       "      <th>target</th>\n",
       "      <th>value</th>\n",
       "    </tr>\n",
       "  </thead>\n",
       "  <tbody>\n",
       "    <tr>\n",
       "      <th>179</th>\n",
       "      <td>Butterfield</td>\n",
       "      <td>Tracy</td>\n",
       "      <td>1</td>\n",
       "    </tr>\n",
       "    <tr>\n",
       "      <th>180</th>\n",
       "      <td>C</td>\n",
       "      <td>Marshall</td>\n",
       "      <td>1</td>\n",
       "    </tr>\n",
       "    <tr>\n",
       "      <th>379</th>\n",
       "      <td>Laura</td>\n",
       "      <td>Lisa</td>\n",
       "      <td>1</td>\n",
       "    </tr>\n",
       "    <tr>\n",
       "      <th>378</th>\n",
       "      <td>Laura</td>\n",
       "      <td>Lily</td>\n",
       "      <td>1</td>\n",
       "    </tr>\n",
       "    <tr>\n",
       "      <th>609</th>\n",
       "      <td>Vicky</td>\n",
       "      <td>Victoria</td>\n",
       "      <td>1</td>\n",
       "    </tr>\n",
       "  </tbody>\n",
       "</table>\n",
       "</div>"
      ],
      "text/plain": [
       "          source    target  value\n",
       "179  Butterfield     Tracy      1\n",
       "180            C  Marshall      1\n",
       "379        Laura      Lisa      1\n",
       "378        Laura      Lily      1\n",
       "609        Vicky  Victoria      1"
      ]
     },
     "execution_count": 132,
     "metadata": {},
     "output_type": "execute_result"
    }
   ],
   "source": [
    "relationship_df.tail()"
   ]
  },
  {
   "cell_type": "code",
   "execution_count": 133,
   "metadata": {},
   "outputs": [
    {
     "data": {
      "text/plain": [
       "(610, 3)"
      ]
     },
     "execution_count": 133,
     "metadata": {},
     "output_type": "execute_result"
    }
   ],
   "source": [
    "relationship_df.shape"
   ]
  },
  {
   "cell_type": "markdown",
   "metadata": {},
   "source": [
    "__Correct Dataframe__"
   ]
  },
  {
   "cell_type": "code",
   "execution_count": 146,
   "metadata": {},
   "outputs": [],
   "source": [
    "corrections = {\n",
    "    \"Lilly\" : \"Lily\",\n",
    "    \"-\" : None,\n",
    "    \"Barn\" : \"Barney\",\n",
    "    \"Lil\" : \"Lily\",\n",
    "    \"Lilypad\" : \"Lily\",\n",
    "    \"C\" : None,\n",
    "    \"Dad\" : None,\n",
    "    \"Daddy\" : None,\n",
    "    \"Ding-dong.\" : None,\n",
    "    \"Dr.\" : None,\n",
    "    \"Eriksens\" : \"Marshall\",\n",
    "    \"Eriksen\" : \"Marshall\",\n",
    "    \"Guy\" : None,\n",
    "    \"Funny\" : None,\n",
    "    \"Funyuns\" : None,\n",
    "    \"Happy\" : None,\n",
    "    \"Lindsay\" : \"Lily\",\n",
    "    \"Lindsey\" : \"Lily\",\n",
    "    \"Love\" : None,\n",
    "    \"Marsh\" : \"Marshall\",\n",
    "    \"Marshmallow\" : \"Marshall\",\n",
    "    \"Mom\" : None,\n",
    "    \"Moby\" : \"Ted\",\n",
    "    \"Mosby\" : \"Ted\",\n",
    "    \"Mu\" : None,\n",
    "    \"Natalya\" : \"Natalie\",\n",
    "    \"Newbie\" : None,\n",
    "    \"P.S.\" : None,\n",
    "    \"Paralegally\" : None,\n",
    "    \"Paris\" : None,\n",
    "    \"Penelope\" : None,\n",
    "    \"Pete\" : None,\n",
    "    \"Red\" : None,\n",
    "    \"Scherbatsky\" : \"Robin\",\n",
    "    \"Sebastian\" : \"Robin\",\n",
    "    \"Stinson\" : \"Barney\",\n",
    "    \"Aldrin\" : \"Lily\",\n",
    "    \"Stu\" : \"Stuart\",\n",
    "    \"Teddy\" : \"Ted\",\n",
    "    \"Tedder\" : \"Ted\",\n",
    "    \"The\" : None,\n",
    "    \"Todd\" : \"Ted\",\n",
    "    \"Tracy\" : \"Tracey\",\n",
    "    \"the\" : None\n",
    "}\n",
    "\n",
    "\n",
    "relationship_df = relationship_df.replace(corrections).dropna()"
   ]
  },
  {
   "cell_type": "code",
   "execution_count": 151,
   "metadata": {},
   "outputs": [],
   "source": [
    "relationship_df = relationship_df[relationship_df[\"source\"] != relationship_df[\"target\"]]"
   ]
  },
  {
   "cell_type": "code",
   "execution_count": 152,
   "metadata": {},
   "outputs": [],
   "source": [
    "with open(\"char2.txt\", \"w\") as f:\n",
    "    a = \"\"\n",
    "    for i in sorted(set(relationship_df[\"source\"].unique().tolist()).union(set(relationship_df[\"target\"].unique().tolist()))):\n",
    "        a = a + i + \"\\n\"\n",
    "    \n",
    "    f.write(a)"
   ]
  },
  {
   "cell_type": "code",
   "execution_count": 153,
   "metadata": {},
   "outputs": [],
   "source": [
    "relationship_df = relationship_df.head(200)"
   ]
  },
  {
   "cell_type": "code",
   "execution_count": 154,
   "metadata": {},
   "outputs": [
    {
     "name": "stdout",
     "output_type": "stream",
     "text": [
      "himym.html\n"
     ]
    },
    {
     "data": {
      "text/html": [
       "\n",
       "        <iframe\n",
       "            width=\"1000px\"\n",
       "            height=\"700px\"\n",
       "            src=\"himym.html\"\n",
       "            frameborder=\"0\"\n",
       "            allowfullscreen\n",
       "            \n",
       "        ></iframe>\n",
       "        "
      ],
      "text/plain": [
       "<IPython.lib.display.IFrame at 0x26cc9074210>"
      ]
     },
     "execution_count": 154,
     "metadata": {},
     "output_type": "execute_result"
    }
   ],
   "source": [
    "G = nx.from_pandas_edgelist(\n",
    "    relationship_df,\n",
    "    source=\"source\",\n",
    "    target=\"target\",\n",
    "    edge_attr=\"value\",\n",
    "    create_using=nx.Graph()\n",
    ")\n",
    "\n",
    "net = Network(\n",
    "    notebook=True, width=\"1000px\", \n",
    "    height=\"700px\", \n",
    "    bgcolor=\"#222222\", \n",
    "    font_color=\"white\", \n",
    "    cdn_resources=\"remote\"\n",
    ")\n",
    "\n",
    "node_degree = dict(G.degree)\n",
    "\n",
    "nx.set_node_attributes(G, node_degree, \"size\")\n",
    "net.from_nx(G)\n",
    "\n",
    "net.show(\"himym.html\")"
   ]
  },
  {
   "cell_type": "code",
   "execution_count": null,
   "metadata": {},
   "outputs": [],
   "source": []
  }
 ],
 "metadata": {
  "kernelspec": {
   "display_name": "venv",
   "language": "python",
   "name": "python3"
  },
  "language_info": {
   "codemirror_mode": {
    "name": "ipython",
    "version": 3
   },
   "file_extension": ".py",
   "mimetype": "text/x-python",
   "name": "python",
   "nbconvert_exporter": "python",
   "pygments_lexer": "ipython3",
   "version": "3.11.5"
  }
 },
 "nbformat": 4,
 "nbformat_minor": 2
}
