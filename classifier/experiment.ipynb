{
 "cells": [
  {
   "cell_type": "code",
   "execution_count": 2,
   "metadata": {},
   "outputs": [
    {
     "name": "stderr",
     "output_type": "stream",
     "text": [
      "c:\\Users\\jaksh\\Desktop\\Programs\\Projects\\himym-analysis\\venv\\Lib\\site-packages\\tqdm\\auto.py:21: TqdmWarning: IProgress not found. Please update jupyter and ipywidgets. See https://ipywidgets.readthedocs.io/en/stable/user_install.html\n",
      "  from .autonotebook import tqdm as notebook_tqdm\n"
     ]
    }
   ],
   "source": [
    "import nltk\n",
    "import torch\n",
    "import pandas as pd\n",
    "import numpy as np\n",
    "from glob import glob\n",
    "from nltk import sent_tokenize\n",
    "from transformers import pipeline"
   ]
  },
  {
   "cell_type": "code",
   "execution_count": 3,
   "metadata": {},
   "outputs": [
    {
     "name": "stderr",
     "output_type": "stream",
     "text": [
      "[nltk_data] Downloading package punkt to\n",
      "[nltk_data]     C:\\Users\\jaksh\\AppData\\Roaming\\nltk_data...\n",
      "[nltk_data]   Package punkt is already up-to-date!\n",
      "[nltk_data] Downloading package stopwords to\n",
      "[nltk_data]     C:\\Users\\jaksh\\AppData\\Roaming\\nltk_data...\n",
      "[nltk_data]   Package stopwords is already up-to-date!\n"
     ]
    },
    {
     "data": {
      "text/plain": [
       "True"
      ]
     },
     "execution_count": 3,
     "metadata": {},
     "output_type": "execute_result"
    }
   ],
   "source": [
    "nltk.download('punkt')\n",
    "nltk.download('stopwords')"
   ]
  },
  {
   "cell_type": "code",
   "execution_count": 4,
   "metadata": {},
   "outputs": [],
   "source": [
    "device = 0 if torch.cuda.is_available() else \"cpu\""
   ]
  },
  {
   "cell_type": "markdown",
   "metadata": {},
   "source": [
    "__Load Model__"
   ]
  },
  {
   "cell_type": "code",
   "execution_count": 5,
   "metadata": {},
   "outputs": [
    {
     "name": "stderr",
     "output_type": "stream",
     "text": [
      "c:\\Users\\jaksh\\Desktop\\Programs\\Projects\\himym-analysis\\venv\\Lib\\site-packages\\transformers\\tokenization_utils_base.py:1601: FutureWarning: `clean_up_tokenization_spaces` was not set. It will be set to `True` by default. This behavior will be depracted in transformers v4.45, and will be then set to `False` by default. For more details check this issue: https://github.com/huggingface/transformers/issues/31884\n",
      "  warnings.warn(\n"
     ]
    }
   ],
   "source": [
    "model = \"facebook/bart-large-mnli\"\n",
    "clf = pipeline(\"zero-shot-classification\", \n",
    "               model=model, \n",
    "               device=device)"
   ]
  },
  {
   "cell_type": "code",
   "execution_count": 6,
   "metadata": {},
   "outputs": [],
   "source": [
    "test = \"I like your phone, does it even work?\"\n",
    "classes = [\"Love\", \"Appreciation\", \"Sarcasm\", \"Anger\", \"Hunger\", \"Dialogue\"]"
   ]
  },
  {
   "cell_type": "code",
   "execution_count": 7,
   "metadata": {},
   "outputs": [
    {
     "data": {
      "text/plain": [
       "{'sequence': 'I like your phone, does it even work?',\n",
       " 'labels': ['Sarcasm', 'Dialogue', 'Appreciation', 'Anger', 'Love', 'Hunger'],\n",
       " 'scores': [0.9283308982849121,\n",
       "  0.7683961391448975,\n",
       "  0.6455283164978027,\n",
       "  0.0011342098005115986,\n",
       "  0.0003232487943023443,\n",
       "  0.0002589166397228837]}"
      ]
     },
     "execution_count": 7,
     "metadata": {},
     "output_type": "execute_result"
    }
   ],
   "source": [
    "clf(test, classes, multi_label=True)"
   ]
  },
  {
   "cell_type": "markdown",
   "metadata": {},
   "source": [
    "__Load Dataset__"
   ]
  },
  {
   "cell_type": "code",
   "execution_count": 8,
   "metadata": {},
   "outputs": [
    {
     "data": {
      "text/plain": [
       "['../data/subs\\\\How I Met Your Mother - 01x01 - Pilot.1080p x265 Joy.English.C.updated.Addic7ed.com.srt',\n",
       " '../data/subs\\\\How I Met Your Mother - 01x02 - Purple giraffe.720.HDTV.CORTEXiPHAN.English.C.updated.Addic7ed.com.srt',\n",
       " '../data/subs\\\\How I Met Your Mother - 01x03 - The sweet taste of liberty.720.HDTV.CORTEXiPHAN.English.C.updated.Addic7ed.com.srt',\n",
       " '../data/subs\\\\How I Met Your Mother - 01x04 - Return of the shirt.720.HDTV.CORTEXiPHAN.English.C.updated.Addic7ed.com.srt',\n",
       " '../data/subs\\\\How I Met Your Mother - 01x05 - Okay awesome.720.HDTV.CORTEXiPHAN.English.C.updated.Addic7ed.com.srt']"
      ]
     },
     "execution_count": 8,
     "metadata": {},
     "output_type": "execute_result"
    }
   ],
   "source": [
    "subs = glob(\"../data/subs/*.srt\")\n",
    "subs[:5]"
   ]
  },
  {
   "cell_type": "code",
   "execution_count": 9,
   "metadata": {},
   "outputs": [
    {
     "name": "stdout",
     "output_type": "stream",
     "text": [
      "1\n",
      "00:00:04,388 --> 00:00:07,588\n",
      "Kids, I'm gonna tell\n",
      "you an incredible story ;\n",
      "\n",
      "2\n",
      "00:00:07,588 --> 00:00:09,828\n",
      "the story of how I met your mother.\n",
      "\n",
      "\n"
     ]
    }
   ],
   "source": [
    "# Understanding Data.\n",
    "with open(subs[0], \"r\", encoding=\"utf-8\") as f:\n",
    "    con = f.read()\n",
    "    print(con[:150])"
   ]
  },
  {
   "cell_type": "code",
   "execution_count": 10,
   "metadata": {},
   "outputs": [
    {
     "name": "stdout",
     "output_type": "stream",
     "text": [
      "Ignored 929 lines out of 2006. Total lines 1077 now.\n"
     ]
    }
   ],
   "source": [
    "with open(subs[0], \"r\", encoding=\"utf-8\") as f:\n",
    "    lines = f.readlines()\n",
    "    cnt = 0\n",
    "    con = []\n",
    "    for line in lines:\n",
    "        line = line.strip()\n",
    "        if line.isnumeric() or \"-->\" in line:\n",
    "            cnt += 1\n",
    "        else:\n",
    "            con.append(line)\n",
    "\n",
    "print(f\"Ignored {cnt} lines out of {len(lines)}. Total lines {len(con)} now.\")"
   ]
  },
  {
   "cell_type": "code",
   "execution_count": 11,
   "metadata": {},
   "outputs": [
    {
     "name": "stdout",
     "output_type": "stream",
     "text": [
      "../data/subs\\How I Met Your Mother - 01x01 - Pilot.1080p x265 Joy.English.C.updated.Addic7ed.com.srt\n"
     ]
    },
    {
     "data": {
      "text/plain": [
       "'1'"
      ]
     },
     "execution_count": 11,
     "metadata": {},
     "output_type": "execute_result"
    }
   ],
   "source": [
    "# Episode\n",
    "print(subs[0])\n",
    "subs[0].split(\"-\")[1].strip()[-1]"
   ]
  },
  {
   "cell_type": "code",
   "execution_count": 12,
   "metadata": {},
   "outputs": [],
   "source": [
    "def load_subs():\n",
    "    subs = glob(\"../data/subs/*.srt\")\n",
    "    episodes = []\n",
    "    scripts = []\n",
    "\n",
    "    for sub in subs:\n",
    "        with open(sub, \"r\", encoding=\"utf-8\") as f:\n",
    "            lines = f.readlines()\n",
    "            cnt = 0\n",
    "            con = []\n",
    "            for line in lines:\n",
    "                line = line.strip()\n",
    "                if line.isnumeric() or \"-->\" in line:\n",
    "                    cnt += 1\n",
    "                else:\n",
    "                    con.append(line)\n",
    "        \n",
    "        script = \" \".join(con)\n",
    "        epno = int(sub.split(\"-\")[1].strip()[-1])\n",
    "        episodes.append(epno)\n",
    "        scripts.append(script)\n",
    "\n",
    "    df = pd.DataFrame({\"episode\": episodes, \"script\": scripts})\n",
    "    return df"
   ]
  },
  {
   "cell_type": "code",
   "execution_count": 13,
   "metadata": {},
   "outputs": [],
   "source": [
    "df = load_subs()"
   ]
  },
  {
   "cell_type": "code",
   "execution_count": 14,
   "metadata": {},
   "outputs": [
    {
     "data": {
      "text/html": [
       "<div>\n",
       "<style scoped>\n",
       "    .dataframe tbody tr th:only-of-type {\n",
       "        vertical-align: middle;\n",
       "    }\n",
       "\n",
       "    .dataframe tbody tr th {\n",
       "        vertical-align: top;\n",
       "    }\n",
       "\n",
       "    .dataframe thead th {\n",
       "        text-align: right;\n",
       "    }\n",
       "</style>\n",
       "<table border=\"1\" class=\"dataframe\">\n",
       "  <thead>\n",
       "    <tr style=\"text-align: right;\">\n",
       "      <th></th>\n",
       "      <th>episode</th>\n",
       "      <th>script</th>\n",
       "    </tr>\n",
       "  </thead>\n",
       "  <tbody>\n",
       "    <tr>\n",
       "      <th>0</th>\n",
       "      <td>1</td>\n",
       "      <td>﻿1 Kids, I'm gonna tell you an incredible stor...</td>\n",
       "    </tr>\n",
       "    <tr>\n",
       "      <th>1</th>\n",
       "      <td>2</td>\n",
       "      <td>Sync by vNaru  - Okay, where was I? - You were...</td>\n",
       "    </tr>\n",
       "    <tr>\n",
       "      <th>2</th>\n",
       "      <td>3</td>\n",
       "      <td>S  Sy  Syn  Sync  Sync b  Sync by  Sync by v  ...</td>\n",
       "    </tr>\n",
       "    <tr>\n",
       "      <th>3</th>\n",
       "      <td>4</td>\n",
       "      <td>Sync by vNaru  Kids, when you're single, all y...</td>\n",
       "    </tr>\n",
       "    <tr>\n",
       "      <th>4</th>\n",
       "      <td>5</td>\n",
       "      <td>Sync by vNaru  So, kids, would you like to hea...</td>\n",
       "    </tr>\n",
       "  </tbody>\n",
       "</table>\n",
       "</div>"
      ],
      "text/plain": [
       "   episode                                             script\n",
       "0        1  ﻿1 Kids, I'm gonna tell you an incredible stor...\n",
       "1        2  Sync by vNaru  - Okay, where was I? - You were...\n",
       "2        3  S  Sy  Syn  Sync  Sync b  Sync by  Sync by v  ...\n",
       "3        4  Sync by vNaru  Kids, when you're single, all y...\n",
       "4        5  Sync by vNaru  So, kids, would you like to hea..."
      ]
     },
     "execution_count": 14,
     "metadata": {},
     "output_type": "execute_result"
    }
   ],
   "source": [
    "df.head()"
   ]
  },
  {
   "cell_type": "markdown",
   "metadata": {},
   "source": [
    "__Model Testing__"
   ]
  },
  {
   "cell_type": "code",
   "execution_count": 15,
   "metadata": {},
   "outputs": [
    {
     "data": {
      "text/plain": [
       "'\\ufeff1 Kids, I\\'m gonna tell you an incredible story ;  the story of how I met your mother.  Are we being punished for something?  No.  Yeah, is this gonna take a while?  Yes. 25 years ago, before I was Dad,  I had this whole other life.  It was way back in 2005.  I was 27, just starting to make it as an architect  and living in New York with Marshall, my best friend from college.  My life was good.  And then Uncle Marshall went and screwed the whole thing up.  Will you marry me?  Yes. Perfect!  And then you\\'re engaged. You pop the champagne.  You drink a toast.  You have sex on the kitchen floor.  Don\\'t have sex on our kitchen floor.  Got it.  Thanks for helping me plan this out, Ted.  Dude, are you kidding ? It\\'s you and Lilly.  I\\'ve been there for all the big moments of you and Lilly:  night you met, your first date, other first things.  Yeah, sorry. We thought you were asleep.  It\\'s physics, Marshall.  If the bottom bunk moves, the top bunk moves, too.  My God.  You\\'re getting engaged tonight.  Yeah. What are you doin\\' tonight?  What was I doing?  Here Uncle Marshall was taking the biggest step of his life.  And me?  I\\'m calling up your Uncle Barney.  Hey, so you know how I\\'ve always had a thing for half-Asian girls?  Well, now I\\'ve got a new favorite... Lebanese girls.  Lebanese girls are the new half-Asians.  Hey, you want to do somethin\\' tonight?  Okay, meet me at the bar in 15 minutes. And suit up!  Where\\'s your suit?  Just once, when I say suit up, I wish you\\'d put on a suit.  I did that one time.  It was a blazer!  You know, ever since college it\\'s been, Marshall and Lilly and me.  Now, it\\'s gonna be Marshall and Lilly... and me.  They\\'ll get married, start a family.  Before long, I\\'m that weird, middle-aged bachelor their kids call Uncle Ted.  I see what this is about.  Have you forgotten what I said to you the night we met?  Ted, I\\'m gonna teach you how to live.  Barney. We met at the urinal.  Oh, right. Right.  Lesson one: lose the goatee.  It doesn\\'t go with your suit.  - I\\'m not wearing a suit. - Lesson two: get a suit.  Suits are cool. Exhibit \"A.\"  Lesson three: don\\'t even think about getting married till you\\'re 30.  30. Right. You\\'re right.  I guess it\\'s just, your best friend gets engaged,  you start thinking about that stuff.  I thought I was your best friend.  Ted, say I\\'m your best friend.  You\\'re my best friend, Barney.  Good. Then, as your best friend,  I suggest we play a little game I like to call  - \"Have you met Ted?\" - Wait. No, no, no.  We\\'re not playing \"Have you met Ted?\"  Hi, have you met Ted?  Hi, I\\'m Ted.  Yasmine.  That\\'s a very pretty name.  Thanks. It\\'s Lebanese.  I\\'m exhausted.  It was finger-painting day at school,  and a five year-old boy got to second base with me.  Wow! You\\'re cooking?  Yes, I am.  Aw...  Are you sure that\\'s a good idea?  After last time, you looked really creepy without eyebrows.  I can handle this.  I think you\\'ll find I\\'m full of surprises tonight.  So, there\\'s more surprises? Like what?  Marshall was in his second year of law school,  so he was pretty good at thinking on his feet.  Boogedyboo!  And that\\'s all of \\'em.  I\\'m gonna go... cook.  I\\'m so happy for Marshall, I really am.  I just couldn\\'t imagine settling down right now.  So, do you think you\\'ll ever get married?  Well, maybe eventually...  some fall day, possibly in Central Park.  Simple ceremony. We\\'ll write our own vows.  Band, no DJ. People will dance!  I\\'m not gonna worry about it!  Damn it, why did Marshall have to get engaged?  Yeah, nothing hotter than a guy planning out his own imaginary wedding, huh?  - Actually, I think it\\'s cute. - Well, you\\'re clearly drunk.  One more for the lady!  Oh, hey, look what I got.  Oh, honey! Champagne.  Yeah.  No. You are too old to be scared to open a bottle of champagne.  - I\\'m not scared. - Then open it.  Fine.  Please open it?  You are unbelievable, Marshall.  There are two big questions a man has to ask in life.  One, you plan out for months.  The other just slips out when you\\'re half drunk at some bar.  Will you marry me?  You wanna go out sometime?  Of course, you idiot!  I\\'m sorry, Carl\\'s my boyfriend.  \\'Sup, Carl?  I promised Ted we wouldn\\'t do that.  Did you know there\\'s a Pop Tart under your fridge?  No, but dibs.  Where\\'s that champagne?  I wanna drink a toast with my fiancée.  I don\\'t know why I was so scared of this.  It\\'s pretty easy, right?  Why am I freaking out all of a sudden?  This is crazy. I\\'m not ready to settle down.  How does Carl land a Lebanese girl?  The plan has always been don\\'t even think about it until you\\'re 30.  Exactly. The guy doesn\\'t even own a suit.  Plus, Marshall\\'s found the love of his life.  Even if I was ready, which I\\'m not...  but if I was, it\\'s, like, \"Okay, I\\'m ready. Where is she?\"  And there she was.  It was like something from an old movie,  where the sailor sees the girl across the crowded dance floor,  turns to his buddy and says, \"See that girl?\"  I\\'m gonna marry her someday.\"  Hey, Barney, see that girl?  Oh, yeah. You just know she likes it dirty.  Go say hi.  I can\\'t just go say hi.  I need a plan.  I\\'m gonna wait until she goes to the bathroom,  then I\\'ll strategically place myself by the jukebox...  Hi, have you met Ted?  Let me guess... Ted.  Sorry, Lilly. I\\'m so sorry.  - Take us to the hospital. - Whoa, whoa, whoa.  Did you hit her?  Hit me? Please!  This guy can barely even spank me in bed for fun.  He\\'s all like, \"Oh, honey. Did that hurt?\"  And, I\\'m like, \"Come on! Let me have it, you pansy!\"  - Wow, a complete stranger. - No, no, no, no! It\\'s okay.  Go on.  So, these, uh, spankings...  you in pajamas or Au Naturel?  So, what do you do?  I\\'m a reporter for Metro News One.  Well, kind of a reporter.  I do those dumb little fluff pieces at the end of the news.  You know, like, um...  monkey who can play the ukulele.  I\\'m hoping to get some bigger stories soon.  Bigger, like, uh... gorilla with an upright bass?  Sorry. You\\'re really pretty.  Oh, your friends don\\'t seem too happy.  Yeah, see, the one in the middle just got dumped by her boyfriend.  So, tonight, every guy is \"the enemy.\"  You know if it\\'ll make your friend feel better,  you could throw a drink in my face. I don\\'t mind.  She would love that!  And it does look fun in the movies.  Hey, you wanna have dinner with me Saturday night?  Oh, I can\\'t.  I\\'m going to Orlando for a week on Friday.  Some guy\\'s attempting to make the world\\'s biggest pancake.  Guess who\\'s covering it?  That\\'s gonna take a week?  Yeah, he\\'s gonna eat it, too. It\\'s another record.  Hey! What\\'s takin\\' so long?  Uh, I know this is a long shot, but how \\'bout tomorrow night?  Yeah. What the hell?  Jerk!  That was fun.  De... wait for it... nied!  Denied!  We\\'re goin\\' out tomorrow night.  I thought we were playin\\' laser tag tomorrow night.  Yeah, I was never gonna go play laser tag.  The next night, I took her out to this little bistro in Brooklyn.  That is one badass blue French horn.  Yeah.  Sort of looks like a Smurf penis.  Son, a piece of advice:  when you go on a first date, you really don\\'t wanna say \"Smurf penis\".  Girls don\\'t ordinarily like that.  But this was no ordinary girl.  Lilly?  How long have you been sitting there?  Stupid eye patch.  Mom, Dad, I have found the future Mrs. Ted Mosby.  Marshall, how have I always described my perfect woman?  Now, let\\'s see... she likes dogs?  I\\'ve got five dogs.  She drinks scotch?  I love a scotch that\\'s old enough to order its own scotch.  Can quote obscure lines from Ghostbusters?  Ray! When someone asks you if you\\'re a god, you say \"Yes!\"  And I\\'m saving the best for last.  Do you want these? I hate olives.  She hates olives! Awesome!  The olive theory.  The olive theory is based on my friends Marshall and Lilly.  He hates olives, she loves them.  In a weird way, that\\'s what makes them such a great couple.  Perfect balance.  You know, I\\'ve had a jar of olives just sitting in my fridge forever.  I could take \\'em off your hands.  They\\'re all yours.  Oh, it is on!  It is on till the break of dawn.  But wait.  It\\'s only the break of 10:30. What happened?  I gotta get one of those blue French horns for over my fireplace.  It\\'s gotta be blue. It\\'s gotta be French.  - No green clarinet? - Nope.  Come on. No purple tuba?  It\\'s a Smurf penis or no dice.  There you are!  We got a jumper.  Some crazy guy on the Manhattan Bridge.  Come on. You\\'re coverin\\' it!  Um... all right. I\\'ll be right there.  I\\'m sorry.  I had a really great time tonight.  Yeah.  So?! Did you kiss her?  No. The moment wasn\\'t right.  Look, this woman could actually be my future wife.  I want our first kiss to be amazing.  Aw, Ted, that is so sweet.  So you chickened out like a little bitch.  What? I did not chicken out.  You know what?  I don\\'t need to take first kiss advice from some pirate  who hasn\\'t been single since the first week of college.  Anyone who\\'s single would tell you the same thing,  even the dumbest single person alive.  And if you don\\'t believe me, call him.  Hey, loser.  How\\'s not playing laser tag?  Because playing laser tag is awesome!  - Oh, I killed you, Conner! - Don\\'t make me get your mom!  Hey, listen. I need your opinion on something.  Okay, meet me at the bar in 15 minutes.  And suit up!  So, these guys think I chickened out.  What do you think?  I can\\'t believe you\\'re still not wearing a suit.  She didn\\'t even give me the signal.  What, is she gonna, she gonna bat her eyes at you in Morse code?  \"Ted... kiss me.\" No ! You just kiss her!  Not if you don\\'t get the signal.  Did Marshall give me the signal?  No! I didn\\'t. I swear.  But, see, at least tonight,  I get to sleep knowing Marshall and me,  never gonna happen.  You should have kissed her.  Oh, I should have kissed her.  Well, maybe in a week when she gets back from Orlando.  A week? That\\'s like a year in hot girl time.  She\\'ll forget all about you.  Mark my words... you will never see that one again.  There she is.  Ooh! She\\'s cute. Hey, Carl, turn it up.  ...persuaded him to reconsider.  At which point, the man came down off the ledge,  giving this bizarre story a happy ending.  - Reporting from Metro One News... - Guy didn\\'t jump.  I\\'m gonna go kiss her.  Right now.  Look, dude. It\\'s midnight.  As your future lawyer, I\\'m gonna advise you that\\'s freakin\\' crazy.  I never do anything crazy.  I\\'m always waiting for the moment, planning the moment.  Well, she\\'s leaving tomorrow.  This may be the only moment I\\'m gonna get.  I gotta do what that guy couldn\\'t.  I gotta take the leap!  Okay, not a perfect metaphor,  \\'cause for me it\\'s fall in love and get married,  and for him it\\'s... death.  Actually, that is a perfect metaphor.  By the way, did I congratulate you two?  I\\'m doing this.  Let\\'s go.  - Word up. - We\\'re coming with you.  Barney?  All right, but under one condition.  Look at you, you beautiful bastard. You suited up!  This is totally going in my blog!  Stop the car.  Uh, pull over right here.  I gotta do something.  Excuse me. Pardon me. Just a sec\\'.  Enjoy your coffee.  Go! Go! Go!  Everybody brings flowers.  Okay.  Moment of truth.  Wish me luck.  Ted\\'s gonna get it on with a TV reporter.  \"This just in.\" Okay.  Kiss her, Ted! Kiss her good!  Kiss the crap outta that girl!  Marshall, remember this night.  When you\\'re the best man at our wedding and you give a speech,  you\\'re gonna tell this story.  Why does he get to be the best man?  I\\'m your best friend!  As I walked up to that door, a million thoughts raced through my mind.  Unfortunately, one particular thought did not.  I\\'ve got five dogs.  Not good. Not good.  - No! - Get back in there!  You\\'re wearing a suit!  Ted?  Hi.  I was just, uh...  Come on up.  He\\'s in.  So...  Ranjit, you must have done it with a Lebanese girl?  Okay, that\\'s my Barney limit.  I\\'m gonna see if that bodega has a bathroom.  Actually, I\\'m from Bangladesh.  The women hot there?  Here\\'s a picture of my wife.  A simple \"no\" would have sufficed.  She\\'s lovely.  So, Ted, what brings you back to Brooklyn at 1:00 in the morning in a suit?  I was just hoping to...  get those olives...  that you said I could have.  Would you like those olives with some gin and vermouth?  Are you trying to get me drunk?  For starters.  So, Marshall, this olive theory, based on you and Lilly?  You hate olives.  Lilly loves \\'em. You can\\'t stand \\'em.  Yeah. Hate olives.  Two weeks ago, Spanish bar on 79th street, dish of olives, you had some... what up?  You have to swear that this does not leave this cab.  - I swear. - I swear.  On our first date, I ordered a Greek salad.  Lilly asked if she could have my olives.  - I said, \"Sure. I hate olives.\" - But, you like olives.  Well, I was 18, okay? I was a virgin.  Been waitin\\' my whole life for a pretty girl to want my olives.  Marshall, I\\'m gonna give you an early wedding present.  Don\\'t get married.  I think I like your olive theory.  I think I like your new French horn.  I think I like your nose.  I think I\\'m in love with you.  - What?! - What?! - What?!  Come on, man, you said your stomach\\'s been hurting, right?  You know what that is.  Hunger.  You\\'re hungry for experience.  Hungry for something new.  Hungry for olives.  But you\\'re too scared to do anything about it.  Yeah, I\\'m scared, okay?  But, when I think of spending the rest of my life with Lilly...  committing, forever, no other women...  doesn\\'t scare me at all.  I\\'m marrying that girl.  Lilly.  Lilly, I like olives.  We\\'ll make it work.  So, Orlando. You gonna hit DisneyWorld?  You love me?!  I-I-I can\\'t believe I said that.  Why did I say that? Who says that?  I should just go.  Hold on.  Wait a minute.  Promised you these.  Olives. Thanks. I love you.  What is wrong with me?  Why are we still sitting here?  Let\\'s go. We can still make last call.  What do you say, Lil?  Yo-ho-ho and a bottle of rum?  \\'Cause you\\'re a pirate.  Okay, eye patch, gone.  And we can\\'t just abandon Ted.  If it doesn\\'t go well up there, he\\'s gonna need some support.  It\\'s been, like, 20 minutes.  You think they\\'re doin\\' it?  You think they\\'re doin\\' it in front of the dogs?  Doggy style.  Hey, there was a girl in college, she had this golden retriever...  Okay, we can go to the bar. Just stop talking.  Hit it, Ranjit.  So, when you tell this story to your friends,  could you avoid the word \"psycho?\"  I\\'d prefer. \"eccentric.\"  Good night... psycho.  Great.  Um, how do I get to the F train?  Oh, um, two blocks that way and take a right.  You know what?  I\\'m done being single.  I\\'m not good at it.  Look, obviously, you can\\'t tell a woman you just met you love her.  But... it sucks that you can\\'t.  I\\'ll tell you something, though.  If a woman... not you, just some hypothetical woman...  were to bear with me through all this,  I think I\\'d make a damn good husband.  Because, that\\'s the stuff I\\'d be good at,  stuff like making her laugh and being a good father.  And walking her five hypothetical dogs.  Being a good kisser.  Everyone thinks they\\'re a good kisser.  Oh, I\\'ve got references.  Good night, Ted.  And I\\'m a good handshaker.  That\\'s a pretty great handshake.  And that was it.  I\\'ll probably never see her again.  What?  That was the signal.  That long, lingering handshake? You should have kissed her.  There\\'s no such thing as \"the signal.\"  But, yeah, that was the signal.  Signal.  Ah, Carl, thank you.  Something I gotta do.  By the way, you should have kissed her.  Carl! You guys weren\\'t there.  I am so turned on right now.  Guys, trust me.  I\\'ve seen the signal.  That was not the signal.  Yeah, Ted, we\\'re not on you anymore.  - To my fiancée. - To the future.  To one hell of a night!  That was not the signal.  I asked her about it years later.  And, yeah, that was the signal.  I could have kissed her.  But that\\'s the funny thing about destiny.  It happens whether you plan it or not.  I mean, I never thought I\\'d see that girl again,  but it turns out I was just too close to the puzzle  to see the picture that was forming.  Because, that, kids, is the true story of how I met your Aunt Robin.  Aunt Robin?  I thought this was how you met mom!  Will you relax? I\\'m getting to it.  Like I said, it\\'s a long story.  <font color=\"#ffff00\">~ Resync by AdyMcAwsum ~</font> <font color=\"#ff0080\">= Addic7ed =</font> '"
      ]
     },
     "execution_count": 15,
     "metadata": {},
     "output_type": "execute_result"
    }
   ],
   "source": [
    "script = df.iloc[0][\"script\"]\n",
    "script"
   ]
  },
  {
   "cell_type": "code",
   "execution_count": 16,
   "metadata": {},
   "outputs": [
    {
     "data": {
      "text/plain": [
       "[\"\\ufeff1 Kids, I'm gonna tell you an incredible story ;  the story of how I met your mother.\",\n",
       " 'Are we being punished for something?',\n",
       " 'No.']"
      ]
     },
     "execution_count": 16,
     "metadata": {},
     "output_type": "execute_result"
    }
   ],
   "source": [
    "script_sentences = sent_tokenize(script)\n",
    "script_sentences[:3]"
   ]
  },
  {
   "cell_type": "code",
   "execution_count": 17,
   "metadata": {},
   "outputs": [],
   "source": [
    "# Batch sentences\n",
    "sentence_batch_size = 20\n",
    "script_batches = []\n",
    "\n",
    "for index in range(0, len(script_sentences), sentence_batch_size):\n",
    "    script_batches.append(\"\".join(script_sentences[index:index + sentence_batch_size]))"
   ]
  },
  {
   "cell_type": "code",
   "execution_count": 18,
   "metadata": {},
   "outputs": [
    {
     "data": {
      "text/plain": [
       "26"
      ]
     },
     "execution_count": 18,
     "metadata": {},
     "output_type": "execute_result"
    }
   ],
   "source": [
    "len(script_batches)"
   ]
  },
  {
   "cell_type": "code",
   "execution_count": 19,
   "metadata": {},
   "outputs": [
    {
     "data": {
      "text/plain": [
       "[{'sequence': \"\\ufeff1 Kids, I'm gonna tell you an incredible story ;  the story of how I met your mother.Are we being punished for something?No.Yeah, is this gonna take a while?Yes.25 years ago, before I was Dad,  I had this whole other life.It was way back in 2005.I was 27, just starting to make it as an architect  and living in New York with Marshall, my best friend from college.My life was good.And then Uncle Marshall went and screwed the whole thing up.Will you marry me?Yes.Perfect!And then you're engaged.You pop the champagne.You drink a toast.You have sex on the kitchen floor.Don't have sex on our kitchen floor.Got it.Thanks for helping me plan this out, Ted.\",\n",
       "  'labels': ['Dialogue', 'Sarcasm', 'Appreciation', 'Anger', 'Love', 'Hunger'],\n",
       "  'scores': [0.24632984399795532,\n",
       "   0.22967974841594696,\n",
       "   0.19244104623794556,\n",
       "   0.17093931138515472,\n",
       "   0.021552560850977898,\n",
       "   0.011540633626282215]},\n",
       " {'sequence': \"Dude, are you kidding ?It's you and Lilly.I've been there for all the big moments of you and Lilly:  night you met, your first date, other first things.Yeah, sorry.We thought you were asleep.It's physics, Marshall.If the bottom bunk moves, the top bunk moves, too.My God.You're getting engaged tonight.Yeah.What are you doin' tonight?What was I doing?Here Uncle Marshall was taking the biggest step of his life.And me?I'm calling up your Uncle Barney.Hey, so you know how I've always had a thing for half-Asian girls?Well, now I've got a new favorite... Lebanese girls.Lebanese girls are the new half-Asians.Hey, you want to do somethin' tonight?Okay, meet me at the bar in 15 minutes.\",\n",
       "  'labels': ['Dialogue', 'Appreciation', 'Sarcasm', 'Love', 'Anger', 'Hunger'],\n",
       "  'scores': [0.63577800989151,\n",
       "   0.496595561504364,\n",
       "   0.4210963547229767,\n",
       "   0.2901376187801361,\n",
       "   0.19846327602863312,\n",
       "   0.1332704722881317]}]"
      ]
     },
     "execution_count": 19,
     "metadata": {},
     "output_type": "execute_result"
    }
   ],
   "source": [
    "theme_output = clf(\n",
    "    script_batches[:2],\n",
    "    classes,\n",
    "    multi_label=True\n",
    ")\n",
    "\n",
    "theme_output"
   ]
  },
  {
   "cell_type": "code",
   "execution_count": 20,
   "metadata": {},
   "outputs": [],
   "source": [
    "themes = {}\n",
    "for output in theme_output:\n",
    "    for label, score in zip(output[\"labels\"], output[\"scores\"]):\n",
    "        if label not in themes:\n",
    "            themes[label] = []\n",
    "        themes[label].append(score)"
   ]
  },
  {
   "cell_type": "code",
   "execution_count": 21,
   "metadata": {},
   "outputs": [
    {
     "data": {
      "text/plain": [
       "{'Dialogue': [0.24632984399795532, 0.63577800989151],\n",
       " 'Sarcasm': [0.22967974841594696, 0.4210963547229767],\n",
       " 'Appreciation': [0.19244104623794556, 0.496595561504364],\n",
       " 'Anger': [0.17093931138515472, 0.19846327602863312],\n",
       " 'Love': [0.021552560850977898, 0.2901376187801361],\n",
       " 'Hunger': [0.011540633626282215, 0.1332704722881317]}"
      ]
     },
     "execution_count": 21,
     "metadata": {},
     "output_type": "execute_result"
    }
   ],
   "source": [
    "themes"
   ]
  },
  {
   "cell_type": "code",
   "execution_count": 22,
   "metadata": {},
   "outputs": [],
   "source": [
    "def get_theme_inference(script):\n",
    "\n",
    "    classes = [\"Sarcasm\", \"Happy\", \"Friendship\", \"Vulgar\", \"Anger\", \"Sad\", \"Love\", \"Narration\"]\n",
    "    script_sentences = sent_tokenize(script)\n",
    "    sentence_batch_size = 20\n",
    "    script_batches = []\n",
    "    for index in range(0, len(script_sentences), sentence_batch_size):\n",
    "        script_batches.append(\"\".join(script_sentences[index:index + sentence_batch_size]))\n",
    "\n",
    "    theme_output = clf(\n",
    "        script_batches[:2],\n",
    "        classes,\n",
    "        multi_label=True\n",
    "    )\n",
    "\n",
    "    themes = {}\n",
    "    for output in theme_output:\n",
    "        for label, score in zip(output[\"labels\"], output[\"scores\"]):\n",
    "            if label not in themes:\n",
    "                themes[label] = []\n",
    "            themes[label].append(score)\n",
    "    \n",
    "    themes = {key:np.mean(np.array(value)) for key, value in themes.items()}\n",
    "    return themes"
   ]
  },
  {
   "cell_type": "code",
   "execution_count": 25,
   "metadata": {},
   "outputs": [],
   "source": [
    "opdf = df.head(2)\n",
    "temp = opdf[\"script\"].apply(get_theme_inference)"
   ]
  },
  {
   "cell_type": "code",
   "execution_count": 27,
   "metadata": {},
   "outputs": [
    {
     "data": {
      "text/html": [
       "<div>\n",
       "<style scoped>\n",
       "    .dataframe tbody tr th:only-of-type {\n",
       "        vertical-align: middle;\n",
       "    }\n",
       "\n",
       "    .dataframe tbody tr th {\n",
       "        vertical-align: top;\n",
       "    }\n",
       "\n",
       "    .dataframe thead th {\n",
       "        text-align: right;\n",
       "    }\n",
       "</style>\n",
       "<table border=\"1\" class=\"dataframe\">\n",
       "  <thead>\n",
       "    <tr style=\"text-align: right;\">\n",
       "      <th></th>\n",
       "      <th>Narration</th>\n",
       "      <th>Dialogue</th>\n",
       "      <th>Sarcasm</th>\n",
       "      <th>Vulgar</th>\n",
       "      <th>Anger</th>\n",
       "      <th>Sad</th>\n",
       "      <th>Love</th>\n",
       "      <th>Friendship</th>\n",
       "      <th>Happy</th>\n",
       "    </tr>\n",
       "  </thead>\n",
       "  <tbody>\n",
       "    <tr>\n",
       "      <th>0</th>\n",
       "      <td>0.478483</td>\n",
       "      <td>0.441054</td>\n",
       "      <td>0.325388</td>\n",
       "      <td>0.163250</td>\n",
       "      <td>0.184701</td>\n",
       "      <td>0.098930</td>\n",
       "      <td>0.155845</td>\n",
       "      <td>0.167654</td>\n",
       "      <td>0.049714</td>\n",
       "    </tr>\n",
       "    <tr>\n",
       "      <th>1</th>\n",
       "      <td>0.822459</td>\n",
       "      <td>0.632703</td>\n",
       "      <td>0.475984</td>\n",
       "      <td>0.281316</td>\n",
       "      <td>0.155183</td>\n",
       "      <td>0.291596</td>\n",
       "      <td>0.635413</td>\n",
       "      <td>0.113331</td>\n",
       "      <td>0.032668</td>\n",
       "    </tr>\n",
       "  </tbody>\n",
       "</table>\n",
       "</div>"
      ],
      "text/plain": [
       "   Narration  Dialogue   Sarcasm    Vulgar     Anger       Sad      Love  \\\n",
       "0   0.478483  0.441054  0.325388  0.163250  0.184701  0.098930  0.155845   \n",
       "1   0.822459  0.632703  0.475984  0.281316  0.155183  0.291596  0.635413   \n",
       "\n",
       "   Friendship     Happy  \n",
       "0    0.167654  0.049714  \n",
       "1    0.113331  0.032668  "
      ]
     },
     "execution_count": 27,
     "metadata": {},
     "output_type": "execute_result"
    }
   ],
   "source": [
    "themes = pd.DataFrame(temp.tolist())\n",
    "themes"
   ]
  },
  {
   "cell_type": "code",
   "execution_count": 30,
   "metadata": {},
   "outputs": [
    {
     "data": {
      "text/html": [
       "<div>\n",
       "<style scoped>\n",
       "    .dataframe tbody tr th:only-of-type {\n",
       "        vertical-align: middle;\n",
       "    }\n",
       "\n",
       "    .dataframe tbody tr th {\n",
       "        vertical-align: top;\n",
       "    }\n",
       "\n",
       "    .dataframe thead th {\n",
       "        text-align: right;\n",
       "    }\n",
       "</style>\n",
       "<table border=\"1\" class=\"dataframe\">\n",
       "  <thead>\n",
       "    <tr style=\"text-align: right;\">\n",
       "      <th></th>\n",
       "      <th>episode</th>\n",
       "      <th>script</th>\n",
       "      <th>Narration</th>\n",
       "      <th>Dialogue</th>\n",
       "      <th>Sarcasm</th>\n",
       "      <th>Vulgar</th>\n",
       "      <th>Anger</th>\n",
       "      <th>Sad</th>\n",
       "      <th>Love</th>\n",
       "      <th>Friendship</th>\n",
       "      <th>Happy</th>\n",
       "    </tr>\n",
       "  </thead>\n",
       "  <tbody>\n",
       "    <tr>\n",
       "      <th>0</th>\n",
       "      <td>1</td>\n",
       "      <td>﻿1 Kids, I'm gonna tell you an incredible stor...</td>\n",
       "      <td>0.478483</td>\n",
       "      <td>0.441054</td>\n",
       "      <td>0.325388</td>\n",
       "      <td>0.163250</td>\n",
       "      <td>0.184701</td>\n",
       "      <td>0.098930</td>\n",
       "      <td>0.155845</td>\n",
       "      <td>0.167654</td>\n",
       "      <td>0.049714</td>\n",
       "    </tr>\n",
       "    <tr>\n",
       "      <th>1</th>\n",
       "      <td>2</td>\n",
       "      <td>Sync by vNaru  - Okay, where was I? - You were...</td>\n",
       "      <td>0.822459</td>\n",
       "      <td>0.632703</td>\n",
       "      <td>0.475984</td>\n",
       "      <td>0.281316</td>\n",
       "      <td>0.155183</td>\n",
       "      <td>0.291596</td>\n",
       "      <td>0.635413</td>\n",
       "      <td>0.113331</td>\n",
       "      <td>0.032668</td>\n",
       "    </tr>\n",
       "  </tbody>\n",
       "</table>\n",
       "</div>"
      ],
      "text/plain": [
       "   episode                                             script  Narration  \\\n",
       "0        1  ﻿1 Kids, I'm gonna tell you an incredible stor...   0.478483   \n",
       "1        2  Sync by vNaru  - Okay, where was I? - You were...   0.822459   \n",
       "\n",
       "   Dialogue   Sarcasm    Vulgar     Anger       Sad      Love  Friendship  \\\n",
       "0  0.441054  0.325388  0.163250  0.184701  0.098930  0.155845    0.167654   \n",
       "1  0.632703  0.475984  0.281316  0.155183  0.291596  0.635413    0.113331   \n",
       "\n",
       "      Happy  \n",
       "0  0.049714  \n",
       "1  0.032668  "
      ]
     },
     "execution_count": 30,
     "metadata": {},
     "output_type": "execute_result"
    }
   ],
   "source": [
    "opdf.loc[:, themes.columns] = themes\n",
    "opdf"
   ]
  },
  {
   "cell_type": "markdown",
   "metadata": {},
   "source": [
    "__Visualize__"
   ]
  },
  {
   "cell_type": "code",
   "execution_count": 31,
   "metadata": {},
   "outputs": [
    {
     "data": {
      "text/html": [
       "<div>\n",
       "<style scoped>\n",
       "    .dataframe tbody tr th:only-of-type {\n",
       "        vertical-align: middle;\n",
       "    }\n",
       "\n",
       "    .dataframe tbody tr th {\n",
       "        vertical-align: top;\n",
       "    }\n",
       "\n",
       "    .dataframe thead th {\n",
       "        text-align: right;\n",
       "    }\n",
       "</style>\n",
       "<table border=\"1\" class=\"dataframe\">\n",
       "  <thead>\n",
       "    <tr style=\"text-align: right;\">\n",
       "      <th></th>\n",
       "      <th>theme</th>\n",
       "      <th>score</th>\n",
       "    </tr>\n",
       "  </thead>\n",
       "  <tbody>\n",
       "    <tr>\n",
       "      <th>0</th>\n",
       "      <td>Narration</td>\n",
       "      <td>1.300941</td>\n",
       "    </tr>\n",
       "    <tr>\n",
       "      <th>1</th>\n",
       "      <td>Dialogue</td>\n",
       "      <td>1.073757</td>\n",
       "    </tr>\n",
       "    <tr>\n",
       "      <th>2</th>\n",
       "      <td>Sarcasm</td>\n",
       "      <td>0.801372</td>\n",
       "    </tr>\n",
       "    <tr>\n",
       "      <th>3</th>\n",
       "      <td>Vulgar</td>\n",
       "      <td>0.444566</td>\n",
       "    </tr>\n",
       "    <tr>\n",
       "      <th>4</th>\n",
       "      <td>Anger</td>\n",
       "      <td>0.339884</td>\n",
       "    </tr>\n",
       "    <tr>\n",
       "      <th>5</th>\n",
       "      <td>Sad</td>\n",
       "      <td>0.390525</td>\n",
       "    </tr>\n",
       "    <tr>\n",
       "      <th>6</th>\n",
       "      <td>Love</td>\n",
       "      <td>0.791258</td>\n",
       "    </tr>\n",
       "    <tr>\n",
       "      <th>7</th>\n",
       "      <td>Friendship</td>\n",
       "      <td>0.280985</td>\n",
       "    </tr>\n",
       "    <tr>\n",
       "      <th>8</th>\n",
       "      <td>Happy</td>\n",
       "      <td>0.082382</td>\n",
       "    </tr>\n",
       "  </tbody>\n",
       "</table>\n",
       "</div>"
      ],
      "text/plain": [
       "        theme     score\n",
       "0   Narration  1.300941\n",
       "1    Dialogue  1.073757\n",
       "2     Sarcasm  0.801372\n",
       "3      Vulgar  0.444566\n",
       "4       Anger  0.339884\n",
       "5         Sad  0.390525\n",
       "6        Love  0.791258\n",
       "7  Friendship  0.280985\n",
       "8       Happy  0.082382"
      ]
     },
     "execution_count": 31,
     "metadata": {},
     "output_type": "execute_result"
    }
   ],
   "source": [
    "op = opdf.drop([\"episode\", 'script'], axis=1).sum().reset_index()\n",
    "op.columns = [\"theme\", \"score\"]\n",
    "op"
   ]
  },
  {
   "cell_type": "code",
   "execution_count": 32,
   "metadata": {},
   "outputs": [],
   "source": [
    "import matplotlib.pyplot as plt\n",
    "import seaborn as sns"
   ]
  },
  {
   "cell_type": "code",
   "execution_count": 33,
   "metadata": {},
   "outputs": [
    {
     "data": {
      "image/png": "[encoded data removed]",
      "text/plain": [
       "<Figure size 640x480 with 1 Axes>"
      ]
     },
     "metadata": {},
     "output_type": "display_data"
    }
   ],
   "source": [
    "sns.barplot(x=\"theme\", y=\"score\", data=op)\n",
    "plt.xticks(rotation=90)\n",
    "plt.show()"
   ]
  },
  {
   "cell_type": "code",
   "execution_count": null,
   "metadata": {},
   "outputs": [],
   "source": []
  }
 ],
 "metadata": {
  "kernelspec": {
   "display_name": "venv",
   "language": "python",
   "name": "python3"
  },
  "language_info": {
   "codemirror_mode": {
    "name": "ipython",
    "version": 3
   },
   "file_extension": ".py",
   "mimetype": "text/x-python",
   "name": "python",
   "nbconvert_exporter": "python",
   "pygments_lexer": "ipython3",
   "version": "3.11.5"
  }
 },
 "nbformat": 4,
 "nbformat_minor": 2
}
